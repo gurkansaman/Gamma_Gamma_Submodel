{
 "cells": [
  {
   "cell_type": "markdown",
   "id": "0fd33d0a",
   "metadata": {
    "papermill": {
     "duration": 0.012479,
     "end_time": "2021-07-24T20:24:01.187837",
     "exception": false,
     "start_time": "2021-07-24T20:24:01.175358",
     "status": "completed"
    },
    "tags": []
   },
   "source": [
    "## Gamma Gamma SubModel\n",
    "**it is shown how to estimate the model parameters and use them to predict likely spend per transaction in the future at the customer level. In general, it is used in retail market.**"
   ]
  },
  {
   "cell_type": "code",
   "execution_count": 1,
   "id": "ecebf7ac",
   "metadata": {
    "_kg_hide-output": true,
    "execution": {
     "iopub.execute_input": "2021-07-24T20:24:01.231830Z",
     "iopub.status.busy": "2021-07-24T20:24:01.220294Z",
     "iopub.status.idle": "2021-07-24T20:24:23.865150Z",
     "shell.execute_reply": "2021-07-24T20:24:23.864523Z",
     "shell.execute_reply.started": "2021-07-24T09:56:54.901798Z"
    },
    "papermill": {
     "duration": 22.6654,
     "end_time": "2021-07-24T20:24:23.865319",
     "exception": false,
     "start_time": "2021-07-24T20:24:01.199919",
     "status": "completed"
    },
    "tags": []
   },
   "outputs": [
    {
     "name": "stdout",
     "output_type": "stream",
     "text": [
      "Collecting openpyxl\r\n",
      "  Downloading openpyxl-3.0.7-py2.py3-none-any.whl (243 kB)\r\n",
      "\u001b[K     |████████████████████████████████| 243 kB 392 kB/s \r\n",
      "\u001b[?25hCollecting et-xmlfile\r\n",
      "  Downloading et_xmlfile-1.1.0-py3-none-any.whl (4.7 kB)\r\n",
      "Installing collected packages: et-xmlfile, openpyxl\r\n",
      "Successfully installed et-xmlfile-1.1.0 openpyxl-3.0.7\r\n",
      "\u001b[33mWARNING: Running pip as root will break packages and permissions. You should install packages reliably by using venv: https://pip.pypa.io/warnings/venv\u001b[0m\r\n",
      "Collecting lifetimes\r\n",
      "  Downloading Lifetimes-0.11.3-py3-none-any.whl (584 kB)\r\n",
      "\u001b[K     |████████████████████████████████| 584 kB 393 kB/s \r\n",
      "\u001b[?25hRequirement already satisfied: pandas>=0.24.0 in /opt/conda/lib/python3.7/site-packages (from lifetimes) (1.2.4)\r\n",
      "Collecting autograd>=1.2.0\r\n",
      "  Downloading autograd-1.3.tar.gz (38 kB)\r\n",
      "Requirement already satisfied: scipy>=1.0.0 in /opt/conda/lib/python3.7/site-packages (from lifetimes) (1.6.3)\r\n",
      "Requirement already satisfied: numpy>=1.10.0 in /opt/conda/lib/python3.7/site-packages (from lifetimes) (1.19.5)\r\n",
      "Requirement already satisfied: dill>=0.2.6 in /opt/conda/lib/python3.7/site-packages (from lifetimes) (0.3.4)\r\n",
      "Requirement already satisfied: future>=0.15.2 in /opt/conda/lib/python3.7/site-packages (from autograd>=1.2.0->lifetimes) (0.18.2)\r\n",
      "Requirement already satisfied: python-dateutil>=2.7.3 in /opt/conda/lib/python3.7/site-packages (from pandas>=0.24.0->lifetimes) (2.8.1)\r\n",
      "Requirement already satisfied: pytz>=2017.3 in /opt/conda/lib/python3.7/site-packages (from pandas>=0.24.0->lifetimes) (2021.1)\r\n",
      "Requirement already satisfied: six>=1.5 in /opt/conda/lib/python3.7/site-packages (from python-dateutil>=2.7.3->pandas>=0.24.0->lifetimes) (1.15.0)\r\n",
      "Building wheels for collected packages: autograd\r\n",
      "  Building wheel for autograd (setup.py) ... \u001b[?25l-\b \b\\\b \bdone\r\n",
      "\u001b[?25h  Created wheel for autograd: filename=autograd-1.3-py3-none-any.whl size=47989 sha256=432567c68aa9c6c2d63b07b75a62ebaf71c0e6db172af34356caf25d179f5ce4\r\n",
      "  Stored in directory: /root/.cache/pip/wheels/ef/32/31/0e87227cd0ca1d99ad51fbe4b54c6fa02afccf7e483d045e04\r\n",
      "Successfully built autograd\r\n",
      "Installing collected packages: autograd, lifetimes\r\n",
      "Successfully installed autograd-1.3 lifetimes-0.11.3\r\n",
      "\u001b[33mWARNING: Running pip as root will break packages and permissions. You should install packages reliably by using venv: https://pip.pypa.io/warnings/venv\u001b[0m\r\n"
     ]
    }
   ],
   "source": [
    "! pip install openpyxl\n",
    "! pip install lifetimes"
   ]
  },
  {
   "cell_type": "code",
   "execution_count": 2,
   "id": "ca7f6d90",
   "metadata": {
    "execution": {
     "iopub.execute_input": "2021-07-24T20:24:23.913131Z",
     "iopub.status.busy": "2021-07-24T20:24:23.912166Z",
     "iopub.status.idle": "2021-07-24T20:24:24.799395Z",
     "shell.execute_reply": "2021-07-24T20:24:24.798702Z",
     "shell.execute_reply.started": "2021-07-24T09:57:21.853983Z"
    },
    "papermill": {
     "duration": 0.913487,
     "end_time": "2021-07-24T20:24:24.799555",
     "exception": false,
     "start_time": "2021-07-24T20:24:23.886068",
     "status": "completed"
    },
    "tags": []
   },
   "outputs": [],
   "source": [
    "# Importing libraries:\n",
    "import datetime as dt\n",
    "import pandas as pd\n",
    "import matplotlib.pyplot as plt\n",
    "from lifetimes import BetaGeoFitter\n",
    "from lifetimes import GammaGammaFitter\n",
    "from lifetimes.plotting import plot_period_transactions\n",
    "import numpy as np\n",
    "import warnings\n",
    "warnings.filterwarnings('ignore')"
   ]
  },
  {
   "cell_type": "code",
   "execution_count": 3,
   "id": "91ecc865",
   "metadata": {
    "execution": {
     "iopub.execute_input": "2021-07-24T20:24:24.846396Z",
     "iopub.status.busy": "2021-07-24T20:24:24.845302Z",
     "iopub.status.idle": "2021-07-24T20:26:08.566141Z",
     "shell.execute_reply": "2021-07-24T20:26:08.565560Z",
     "shell.execute_reply.started": "2021-07-24T09:57:23.965332Z"
    },
    "papermill": {
     "duration": 103.745655,
     "end_time": "2021-07-24T20:26:08.566315",
     "exception": false,
     "start_time": "2021-07-24T20:24:24.820660",
     "status": "completed"
    },
    "tags": []
   },
   "outputs": [],
   "source": [
    "# Importing file:\n",
    "df = pd.read_excel('/kaggle/input/online-retail/online_retail.xlsx', sheet_name=\"Year 2010-2011\", engine='openpyxl')"
   ]
  },
  {
   "cell_type": "code",
   "execution_count": 4,
   "id": "a426bf5b",
   "metadata": {
    "execution": {
     "iopub.execute_input": "2021-07-24T20:26:08.699253Z",
     "iopub.status.busy": "2021-07-24T20:26:08.698551Z",
     "iopub.status.idle": "2021-07-24T20:26:08.750211Z",
     "shell.execute_reply": "2021-07-24T20:26:08.749630Z",
     "shell.execute_reply.started": "2021-07-24T09:59:11.08994Z"
    },
    "papermill": {
     "duration": 0.16326,
     "end_time": "2021-07-24T20:26:08.750362",
     "exception": false,
     "start_time": "2021-07-24T20:26:08.587102",
     "status": "completed"
    },
    "tags": []
   },
   "outputs": [],
   "source": [
    "# Analysis for United Kingdom\n",
    "\n",
    "df=df[df[\"Country\"]==\"United Kingdom\"]"
   ]
  },
  {
   "cell_type": "code",
   "execution_count": 5,
   "id": "616bb125",
   "metadata": {
    "execution": {
     "iopub.execute_input": "2021-07-24T20:26:08.802199Z",
     "iopub.status.busy": "2021-07-24T20:26:08.801536Z",
     "iopub.status.idle": "2021-07-24T20:26:09.795656Z",
     "shell.execute_reply": "2021-07-24T20:26:09.795155Z",
     "shell.execute_reply.started": "2021-07-24T09:59:11.244141Z"
    },
    "papermill": {
     "duration": 1.024539,
     "end_time": "2021-07-24T20:26:09.795800",
     "exception": false,
     "start_time": "2021-07-24T20:26:08.771261",
     "status": "completed"
    },
    "tags": []
   },
   "outputs": [
    {
     "data": {
      "text/html": [
       "<div>\n",
       "<style scoped>\n",
       "    .dataframe tbody tr th:only-of-type {\n",
       "        vertical-align: middle;\n",
       "    }\n",
       "\n",
       "    .dataframe tbody tr th {\n",
       "        vertical-align: top;\n",
       "    }\n",
       "\n",
       "    .dataframe thead th {\n",
       "        text-align: right;\n",
       "    }\n",
       "</style>\n",
       "<table border=\"1\" class=\"dataframe\">\n",
       "  <thead>\n",
       "    <tr style=\"text-align: right;\">\n",
       "      <th></th>\n",
       "      <th>Invoice</th>\n",
       "      <th>StockCode</th>\n",
       "      <th>Description</th>\n",
       "      <th>Quantity</th>\n",
       "      <th>InvoiceDate</th>\n",
       "      <th>Price</th>\n",
       "      <th>Customer ID</th>\n",
       "      <th>Country</th>\n",
       "      <th>TotalPrice</th>\n",
       "    </tr>\n",
       "  </thead>\n",
       "  <tbody>\n",
       "    <tr>\n",
       "      <th>0</th>\n",
       "      <td>536365</td>\n",
       "      <td>85123A</td>\n",
       "      <td>WHITE HANGING HEART T-LIGHT HOLDER</td>\n",
       "      <td>6.0</td>\n",
       "      <td>2010-12-01 08:26:00</td>\n",
       "      <td>2.55</td>\n",
       "      <td>17850.0</td>\n",
       "      <td>United Kingdom</td>\n",
       "      <td>15.30</td>\n",
       "    </tr>\n",
       "    <tr>\n",
       "      <th>1</th>\n",
       "      <td>536365</td>\n",
       "      <td>71053</td>\n",
       "      <td>WHITE METAL LANTERN</td>\n",
       "      <td>6.0</td>\n",
       "      <td>2010-12-01 08:26:00</td>\n",
       "      <td>3.39</td>\n",
       "      <td>17850.0</td>\n",
       "      <td>United Kingdom</td>\n",
       "      <td>20.34</td>\n",
       "    </tr>\n",
       "    <tr>\n",
       "      <th>2</th>\n",
       "      <td>536365</td>\n",
       "      <td>84406B</td>\n",
       "      <td>CREAM CUPID HEARTS COAT HANGER</td>\n",
       "      <td>8.0</td>\n",
       "      <td>2010-12-01 08:26:00</td>\n",
       "      <td>2.75</td>\n",
       "      <td>17850.0</td>\n",
       "      <td>United Kingdom</td>\n",
       "      <td>22.00</td>\n",
       "    </tr>\n",
       "    <tr>\n",
       "      <th>3</th>\n",
       "      <td>536365</td>\n",
       "      <td>84029G</td>\n",
       "      <td>KNITTED UNION FLAG HOT WATER BOTTLE</td>\n",
       "      <td>6.0</td>\n",
       "      <td>2010-12-01 08:26:00</td>\n",
       "      <td>3.39</td>\n",
       "      <td>17850.0</td>\n",
       "      <td>United Kingdom</td>\n",
       "      <td>20.34</td>\n",
       "    </tr>\n",
       "    <tr>\n",
       "      <th>4</th>\n",
       "      <td>536365</td>\n",
       "      <td>84029E</td>\n",
       "      <td>RED WOOLLY HOTTIE WHITE HEART.</td>\n",
       "      <td>6.0</td>\n",
       "      <td>2010-12-01 08:26:00</td>\n",
       "      <td>3.39</td>\n",
       "      <td>17850.0</td>\n",
       "      <td>United Kingdom</td>\n",
       "      <td>20.34</td>\n",
       "    </tr>\n",
       "  </tbody>\n",
       "</table>\n",
       "</div>"
      ],
      "text/plain": [
       "  Invoice StockCode                          Description  Quantity  \\\n",
       "0  536365    85123A   WHITE HANGING HEART T-LIGHT HOLDER       6.0   \n",
       "1  536365     71053                  WHITE METAL LANTERN       6.0   \n",
       "2  536365    84406B       CREAM CUPID HEARTS COAT HANGER       8.0   \n",
       "3  536365    84029G  KNITTED UNION FLAG HOT WATER BOTTLE       6.0   \n",
       "4  536365    84029E       RED WOOLLY HOTTIE WHITE HEART.       6.0   \n",
       "\n",
       "          InvoiceDate  Price  Customer ID         Country  TotalPrice  \n",
       "0 2010-12-01 08:26:00   2.55      17850.0  United Kingdom       15.30  \n",
       "1 2010-12-01 08:26:00   3.39      17850.0  United Kingdom       20.34  \n",
       "2 2010-12-01 08:26:00   2.75      17850.0  United Kingdom       22.00  \n",
       "3 2010-12-01 08:26:00   3.39      17850.0  United Kingdom       20.34  \n",
       "4 2010-12-01 08:26:00   3.39      17850.0  United Kingdom       20.34  "
      ]
     },
     "execution_count": 5,
     "metadata": {},
     "output_type": "execute_result"
    }
   ],
   "source": [
    "#########################\n",
    "# Pre Processing\n",
    "#########################\n",
    "\n",
    "def outlier_thresholds(dataframe, variable):\n",
    "    quartile1 = dataframe[variable].quantile(0.01)\n",
    "    quartile3 = dataframe[variable].quantile(0.99)\n",
    "    interquantile_range = quartile3 - quartile1\n",
    "    up_limit = quartile3 + 1.5 * interquantile_range\n",
    "    low_limit = quartile1 - 1.5 * interquantile_range\n",
    "    return low_limit, up_limit\n",
    "\n",
    "\n",
    "def replace_with_thresholds(dataframe, variable):\n",
    "    low_limit, up_limit = outlier_thresholds(dataframe, variable)\n",
    "    dataframe.loc[(dataframe[variable] < low_limit), variable] = low_limit\n",
    "    dataframe.loc[(dataframe[variable] > up_limit), variable] = up_limit\n",
    "\n",
    "df.dropna(inplace=True)\n",
    "df = df[~df[\"Invoice\"].str.contains(\"C\", na=False)]\n",
    "df = df[df[\"Quantity\"] > 0]\n",
    "\n",
    "replace_with_thresholds(df, \"Quantity\")\n",
    "replace_with_thresholds(df, \"Price\")\n",
    "df.describe().T\n",
    "\n",
    "df[\"TotalPrice\"] = df[\"Quantity\"] * df[\"Price\"]\n",
    "\n",
    "today_date = dt.datetime(2011, 12, 11)\n",
    "\n",
    "df.head()"
   ]
  },
  {
   "cell_type": "code",
   "execution_count": 6,
   "id": "717a512b",
   "metadata": {
    "execution": {
     "iopub.execute_input": "2021-07-24T20:26:09.846916Z",
     "iopub.status.busy": "2021-07-24T20:26:09.846246Z",
     "iopub.status.idle": "2021-07-24T20:26:12.137808Z",
     "shell.execute_reply": "2021-07-24T20:26:12.137315Z",
     "shell.execute_reply.started": "2021-07-24T09:59:12.312621Z"
    },
    "papermill": {
     "duration": 2.32048,
     "end_time": "2021-07-24T20:26:12.137963",
     "exception": false,
     "start_time": "2021-07-24T20:26:09.817483",
     "status": "completed"
    },
    "tags": []
   },
   "outputs": [
    {
     "data": {
      "text/html": [
       "<div>\n",
       "<style scoped>\n",
       "    .dataframe tbody tr th:only-of-type {\n",
       "        vertical-align: middle;\n",
       "    }\n",
       "\n",
       "    .dataframe tbody tr th {\n",
       "        vertical-align: top;\n",
       "    }\n",
       "\n",
       "    .dataframe thead th {\n",
       "        text-align: right;\n",
       "    }\n",
       "</style>\n",
       "<table border=\"1\" class=\"dataframe\">\n",
       "  <thead>\n",
       "    <tr style=\"text-align: right;\">\n",
       "      <th></th>\n",
       "      <th>recency</th>\n",
       "      <th>T</th>\n",
       "      <th>frequency</th>\n",
       "      <th>monetary</th>\n",
       "    </tr>\n",
       "    <tr>\n",
       "      <th>Customer ID</th>\n",
       "      <th></th>\n",
       "      <th></th>\n",
       "      <th></th>\n",
       "      <th></th>\n",
       "    </tr>\n",
       "  </thead>\n",
       "  <tbody>\n",
       "    <tr>\n",
       "      <th>12346.0</th>\n",
       "      <td>0</td>\n",
       "      <td>326</td>\n",
       "      <td>1</td>\n",
       "      <td>258.440000</td>\n",
       "    </tr>\n",
       "    <tr>\n",
       "      <th>12747.0</th>\n",
       "      <td>366</td>\n",
       "      <td>370</td>\n",
       "      <td>11</td>\n",
       "      <td>381.455455</td>\n",
       "    </tr>\n",
       "    <tr>\n",
       "      <th>12748.0</th>\n",
       "      <td>372</td>\n",
       "      <td>374</td>\n",
       "      <td>210</td>\n",
       "      <td>153.828143</td>\n",
       "    </tr>\n",
       "    <tr>\n",
       "      <th>12749.0</th>\n",
       "      <td>209</td>\n",
       "      <td>214</td>\n",
       "      <td>5</td>\n",
       "      <td>814.488000</td>\n",
       "    </tr>\n",
       "    <tr>\n",
       "      <th>12820.0</th>\n",
       "      <td>323</td>\n",
       "      <td>327</td>\n",
       "      <td>4</td>\n",
       "      <td>235.585000</td>\n",
       "    </tr>\n",
       "  </tbody>\n",
       "</table>\n",
       "</div>"
      ],
      "text/plain": [
       "             recency    T  frequency    monetary\n",
       "Customer ID                                     \n",
       "12346.0            0  326          1  258.440000\n",
       "12747.0          366  370         11  381.455455\n",
       "12748.0          372  374        210  153.828143\n",
       "12749.0          209  214          5  814.488000\n",
       "12820.0          323  327          4  235.585000"
      ]
     },
     "execution_count": 6,
     "metadata": {},
     "output_type": "execute_result"
    }
   ],
   "source": [
    "#########################\n",
    "# Preparing Dataset\n",
    "#########################\n",
    "\n",
    "# Recency: How recently a customer has made a purchase\n",
    "# Frequency: How often a customer makes a purchase\n",
    "# Monetary Value: How much money a customer spends on purchases\n",
    "\n",
    "cltv_df = df.groupby('Customer ID').agg({'InvoiceDate': [lambda date: (date.max() - date.min()).days,\n",
    "                                                         lambda date: (today_date - date.min()).days],\n",
    "                                        'Invoice': lambda num: num.nunique(),\n",
    "                                        'TotalPrice': lambda TotalPrice: TotalPrice.sum()})\n",
    "\n",
    "cltv_df.columns = cltv_df.columns.droplevel(0)\n",
    "cltv_df.columns = ['recency', 'T', 'frequency', 'monetary']\n",
    "\n",
    "cltv_df[\"monetary\"] = cltv_df[\"monetary\"] / cltv_df[\"frequency\"]\n",
    "\n",
    "cltv_df = cltv_df[cltv_df[\"monetary\"] > 0]\n",
    "\n",
    "cltv_df.head()"
   ]
  },
  {
   "cell_type": "code",
   "execution_count": 7,
   "id": "73863559",
   "metadata": {
    "execution": {
     "iopub.execute_input": "2021-07-24T20:26:12.186737Z",
     "iopub.status.busy": "2021-07-24T20:26:12.185740Z",
     "iopub.status.idle": "2021-07-24T20:26:12.189698Z",
     "shell.execute_reply": "2021-07-24T20:26:12.189185Z",
     "shell.execute_reply.started": "2021-07-24T09:59:18.234872Z"
    },
    "papermill": {
     "duration": 0.030419,
     "end_time": "2021-07-24T20:26:12.189833",
     "exception": false,
     "start_time": "2021-07-24T20:26:12.159414",
     "status": "completed"
    },
    "tags": []
   },
   "outputs": [],
   "source": [
    "# Recency and T value is converted to \"Weekly\" \n",
    "cltv_df[\"recency\"] = cltv_df[\"recency\"] / 7\n",
    "cltv_df[\"T\"] = cltv_df[\"T\"] / 7"
   ]
  },
  {
   "cell_type": "code",
   "execution_count": 8,
   "id": "757a8021",
   "metadata": {
    "execution": {
     "iopub.execute_input": "2021-07-24T20:26:12.234938Z",
     "iopub.status.busy": "2021-07-24T20:26:12.234342Z",
     "iopub.status.idle": "2021-07-24T20:26:12.238922Z",
     "shell.execute_reply": "2021-07-24T20:26:12.239407Z",
     "shell.execute_reply.started": "2021-07-24T09:59:26.681495Z"
    },
    "papermill": {
     "duration": 0.028339,
     "end_time": "2021-07-24T20:26:12.239558",
     "exception": false,
     "start_time": "2021-07-24T20:26:12.211219",
     "status": "completed"
    },
    "tags": []
   },
   "outputs": [],
   "source": [
    "# If there is lower 1 transaction value, then they are not selected: \n",
    "cltv_df = cltv_df[(cltv_df['frequency'] > 1)]"
   ]
  },
  {
   "cell_type": "code",
   "execution_count": 9,
   "id": "06b10789",
   "metadata": {
    "execution": {
     "iopub.execute_input": "2021-07-24T20:26:12.284813Z",
     "iopub.status.busy": "2021-07-24T20:26:12.284198Z",
     "iopub.status.idle": "2021-07-24T20:26:12.377735Z",
     "shell.execute_reply": "2021-07-24T20:26:12.378374Z",
     "shell.execute_reply.started": "2021-07-24T10:00:00.038296Z"
    },
    "papermill": {
     "duration": 0.118111,
     "end_time": "2021-07-24T20:26:12.378539",
     "exception": false,
     "start_time": "2021-07-24T20:26:12.260428",
     "status": "completed"
    },
    "tags": []
   },
   "outputs": [
    {
     "data": {
      "text/html": [
       "<div>\n",
       "<style scoped>\n",
       "    .dataframe tbody tr th:only-of-type {\n",
       "        vertical-align: middle;\n",
       "    }\n",
       "\n",
       "    .dataframe tbody tr th {\n",
       "        vertical-align: top;\n",
       "    }\n",
       "\n",
       "    .dataframe thead th {\n",
       "        text-align: right;\n",
       "    }\n",
       "</style>\n",
       "<table border=\"1\" class=\"dataframe\">\n",
       "  <thead>\n",
       "    <tr style=\"text-align: right;\">\n",
       "      <th></th>\n",
       "      <th>recency</th>\n",
       "      <th>T</th>\n",
       "      <th>frequency</th>\n",
       "      <th>monetary</th>\n",
       "      <th>expected_average_profit</th>\n",
       "    </tr>\n",
       "    <tr>\n",
       "      <th>Customer ID</th>\n",
       "      <th></th>\n",
       "      <th></th>\n",
       "      <th></th>\n",
       "      <th></th>\n",
       "      <th></th>\n",
       "    </tr>\n",
       "  </thead>\n",
       "  <tbody>\n",
       "    <tr>\n",
       "      <th>12747.0</th>\n",
       "      <td>52.285714</td>\n",
       "      <td>52.857143</td>\n",
       "      <td>11</td>\n",
       "      <td>381.455455</td>\n",
       "      <td>387.822846</td>\n",
       "    </tr>\n",
       "    <tr>\n",
       "      <th>12748.0</th>\n",
       "      <td>53.142857</td>\n",
       "      <td>53.428571</td>\n",
       "      <td>210</td>\n",
       "      <td>153.828143</td>\n",
       "      <td>153.971325</td>\n",
       "    </tr>\n",
       "    <tr>\n",
       "      <th>12749.0</th>\n",
       "      <td>29.857143</td>\n",
       "      <td>30.571429</td>\n",
       "      <td>5</td>\n",
       "      <td>814.488000</td>\n",
       "      <td>844.094697</td>\n",
       "    </tr>\n",
       "    <tr>\n",
       "      <th>12820.0</th>\n",
       "      <td>46.142857</td>\n",
       "      <td>46.714286</td>\n",
       "      <td>4</td>\n",
       "      <td>235.585000</td>\n",
       "      <td>247.080949</td>\n",
       "    </tr>\n",
       "    <tr>\n",
       "      <th>12822.0</th>\n",
       "      <td>2.285714</td>\n",
       "      <td>12.571429</td>\n",
       "      <td>2</td>\n",
       "      <td>474.440000</td>\n",
       "      <td>520.828195</td>\n",
       "    </tr>\n",
       "  </tbody>\n",
       "</table>\n",
       "</div>"
      ],
      "text/plain": [
       "               recency          T  frequency    monetary  \\\n",
       "Customer ID                                                \n",
       "12747.0      52.285714  52.857143         11  381.455455   \n",
       "12748.0      53.142857  53.428571        210  153.828143   \n",
       "12749.0      29.857143  30.571429          5  814.488000   \n",
       "12820.0      46.142857  46.714286          4  235.585000   \n",
       "12822.0       2.285714  12.571429          2  474.440000   \n",
       "\n",
       "             expected_average_profit  \n",
       "Customer ID                           \n",
       "12747.0                   387.822846  \n",
       "12748.0                   153.971325  \n",
       "12749.0                   844.094697  \n",
       "12820.0                   247.080949  \n",
       "12822.0                   520.828195  "
      ]
     },
     "execution_count": 9,
     "metadata": {},
     "output_type": "execute_result"
    }
   ],
   "source": [
    "# Estimating \"Expected AVG Profit\" by one customer\n",
    "ggf = GammaGammaFitter(penalizer_coef=0.01)\n",
    "ggf.fit(cltv_df['frequency'], cltv_df['monetary'])\n",
    "\n",
    "cltv_df[\"expected_average_profit\"] = ggf.conditional_expected_average_profit(cltv_df['frequency'],\n",
    "                                                                             cltv_df['monetary'])\n",
    "\n",
    "cltv_df.head()"
   ]
  }
 ],
 "metadata": {
  "kernelspec": {
   "display_name": "Python 3",
   "language": "python",
   "name": "python3"
  },
  "language_info": {
   "codemirror_mode": {
    "name": "ipython",
    "version": 3
   },
   "file_extension": ".py",
   "mimetype": "text/x-python",
   "name": "python",
   "nbconvert_exporter": "python",
   "pygments_lexer": "ipython3",
   "version": "3.7.10"
  },
  "papermill": {
   "default_parameters": {},
   "duration": 140.507835,
   "end_time": "2021-07-24T20:26:13.527490",
   "environment_variables": {},
   "exception": null,
   "input_path": "__notebook__.ipynb",
   "output_path": "__notebook__.ipynb",
   "parameters": {},
   "start_time": "2021-07-24T20:23:53.019655",
   "version": "2.3.3"
  }
 },
 "nbformat": 4,
 "nbformat_minor": 5
}
